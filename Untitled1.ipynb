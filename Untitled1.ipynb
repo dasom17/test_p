{
  "nbformat": 4,
  "nbformat_minor": 0,
  "metadata": {
    "colab": {
      "provenance": [],
      "authorship_tag": "ABX9TyM4C/rFbrhjafRoFzsVHzY8",
      "include_colab_link": true
    },
    "kernelspec": {
      "name": "python3",
      "display_name": "Python 3"
    },
    "language_info": {
      "name": "python"
    }
  },
  "cells": [
    {
      "cell_type": "markdown",
      "metadata": {
        "id": "view-in-github",
        "colab_type": "text"
      },
      "source": [
        "<a href=\"https://colab.research.google.com/github/dasom17/test_p/blob/main/Untitled1.ipynb\" target=\"_parent\"><img src=\"https://colab.research.google.com/assets/colab-badge.svg\" alt=\"Open In Colab\"/></a>"
      ]
    },
    {
      "cell_type": "markdown",
      "source": [
        "8. 보기를 출력하세요.\n",
        "\"안녕하세요?\" 본인이름 님, 기초파이썬 강좌를 수강하신 것을 축하드립니다."
      ],
      "metadata": {
        "id": "zb1-pZTgGHiw"
      }
    },
    {
      "cell_type": "code",
      "execution_count": null,
      "metadata": {
        "colab": {
          "base_uri": "https://localhost:8080/"
        },
        "id": "pyjbGsjbBK4D",
        "outputId": "7a2d5ca8-4f5c-4828-9378-0e8bb83e4396"
      },
      "outputs": [
        {
          "output_type": "stream",
          "name": "stdout",
          "text": [
            "본인 이름을 입력하세요.노다솜\n",
            "안녕하세요? 노다솜 님, 기초파이썬 강좌를 수강하신 것을 축하드립니다.\n"
          ]
        }
      ],
      "source": [
        "name = input(\"본인 이름을 입력하세요.\")\n",
        "print(\"안녕하세요?\", name, \"님, 기초파이썬 강좌를 수강하신 것을 축하드립니다.\")\n",
        "\n",
        "#변수 설정하기, input 함수 활용, \"\" 사이에 입력한 내용은 그대로 출력, 변수는 \"\" 붙이지 않기, 반점 꼭 쓰기"
      ]
    },
    {
      "cell_type": "markdown",
      "source": [
        "10. 변수를 작성하는 방법 3가지를 computer program으로 만드시오."
      ],
      "metadata": {
        "id": "D1PCrZigG-k2"
      }
    },
    {
      "cell_type": "code",
      "source": [
        "#방법 1\n",
        "x = 100\n",
        "print(x)\n",
        "\n",
        "#방법 2\n",
        "y = '200'\n",
        "print(y)\n",
        "\n",
        "#방법 3\n",
        "name = \"홍길동\"\n",
        "print(name)\n",
        "\n",
        "#변수의 규칙 : 문자 또는 _로 시작, 문자,숫자,_구성,공백 및 특수 문자 사용 불가"
      ],
      "metadata": {
        "id": "BBnAxx6YJcVa",
        "colab": {
          "base_uri": "https://localhost:8080/"
        },
        "outputId": "0997c830-eddb-4fae-dabb-f6cac87c81fe"
      },
      "execution_count": 5,
      "outputs": [
        {
          "output_type": "stream",
          "name": "stdout",
          "text": [
            "100\n",
            "200\n",
            "홍길동\n"
          ]
        }
      ]
    },
    {
      "cell_type": "markdown",
      "source": [
        "19. 다음 보기의 사칙연산을 완성하시오. 한줄에 모두, 여러줄로 나누어서, 보기좋게 정리하시오. \n",
        "보기 : 1+2, 2-3, 3*4, 4/4"
      ],
      "metadata": {
        "id": "B8Ct6bcyNyx-"
      }
    },
    {
      "cell_type": "code",
      "source": [
        "print(\"1+2 =\",(1+2),\"입니다.\")\n",
        "print(\"2-3 =\",(2-3),\"입니다.\")\n",
        "print(\"3*4 =\",(3*4),\"입니다.\")\n",
        "print(\"4/4 =\",(4/4),\"입니다.\")\n",
        "print(\"1+2, 2-3, 3*4, 4/4 =\",1+2, 2-3, 3*4, 4/4, \"입니다.\")\n",
        "\n",
        "#기본형\n",
        "#print(1+2)\n",
        "#print(2-3)\n",
        "#print(3*4)\n",
        "#print(4/4)\n",
        "#print(1+2, 2-3, 3*4, 4/4)\n",
        "\n",
        "#정리\n",
        "#print(\"1+2 =\",(1+2),\"입니다.\")\n",
        "#print(\"2-3 =\",(2-3),\"입니다.\")\n",
        "#print(\"3*4 =\",(3*4),\"입니다.\")\n",
        "#print(\"4/4 =\",(4/4),\"입니다.\")\n",
        "#print(\"1+2, 2-3, 3*4, 4/4 =\",(1+2, 2-3, 3*4, 4/4),\"입니다.\")\n",
        "\n",
        "#print(\"사칙연산\")<-문자열, 값은 print(사칙연산)"
      ],
      "metadata": {
        "colab": {
          "base_uri": "https://localhost:8080/"
        },
        "id": "2vG8lDqEOXVa",
        "outputId": "4ed6028b-e4c2-45e7-e2d5-4033cae21654"
      },
      "execution_count": null,
      "outputs": [
        {
          "output_type": "stream",
          "name": "stdout",
          "text": [
            "1+2 = 3 입니다.\n",
            "2-3 = -1 입니다.\n",
            "3*4 = 12 입니다.\n",
            "4/4 = 1.0 입니다.\n",
            "1+2, 2-3, 3*4, 4/4 = 3 -1 12 1.0 입니다.\n"
          ]
        }
      ]
    },
    {
      "cell_type": "markdown",
      "source": [
        "20.아래의 출력화면을 간결하고 보기좋게 코딩하시오.\n",
        "\n",
        "****************************************\n",
        "* 제1조 1항 대한민국은 민주공화국이다. *\n",
        "****************************************"
      ],
      "metadata": {
        "id": "6uz-caoSTiGL"
      }
    },
    {
      "cell_type": "code",
      "source": [
        "print(\"*\"*40)\n",
        "print(\"* 제1조 1항 대한민국은 민주공화국이다. *\")\n",
        "print(\"*\"*40)\n",
        "\n",
        "#print(\"*\")로 작성하여 문자 취급 후 * 40"
      ],
      "metadata": {
        "colab": {
          "base_uri": "https://localhost:8080/"
        },
        "id": "IsOdDq9mSWyS",
        "outputId": "f5f14a8b-43a9-43c3-e3fa-5fed7535b038"
      },
      "execution_count": null,
      "outputs": [
        {
          "output_type": "stream",
          "name": "stdout",
          "text": [
            "****************************************\n",
            "* 제1조 1항 대한민국은 민주공화국이다. *\n",
            "****************************************\n"
          ]
        }
      ]
    },
    {
      "cell_type": "markdown",
      "source": [
        "21. 사용자에게 성명, 나이, 주소를 입력받아서 출력하라."
      ],
      "metadata": {
        "id": "hSou7HMRUb2W"
      }
    },
    {
      "cell_type": "code",
      "source": [
        "name = input(\"성명을 입력하세요.\")\n",
        "age = input(\"나이를 입력하세요.\")\n",
        "addr = input(\"주소를 입력하세요.\")\n",
        "print(\"사용자의 이름은\", name, \",나이는\", age,\"살, 주소는\", addr,\"입니다.\")\n",
        "\n",
        "#변수설정꼭하기"
      ],
      "metadata": {
        "colab": {
          "base_uri": "https://localhost:8080/"
        },
        "id": "DV2bWh33UgZJ",
        "outputId": "88336b23-7dd8-43d1-c315-8da92a97fca4"
      },
      "execution_count": null,
      "outputs": [
        {
          "output_type": "stream",
          "name": "stdout",
          "text": [
            "성명을 입력하세요.5\n",
            "나이를 입력하세요.5\n",
            "주소를 입력하세요.4\n",
            "사용자의 이름은 5 ,나이는 5 살, 주소는 4 입니다.\n"
          ]
        }
      ]
    },
    {
      "cell_type": "markdown",
      "source": [
        "22. 터틀그래픽 사용법에 대해서 코딩하고 설명하시오."
      ],
      "metadata": {
        "id": "zRmPp9tkV6Lu"
      }
    },
    {
      "cell_type": "code",
      "source": [
        "#파이썬 쉘에서 다음과 같이 입력한다.\n",
        "import turtle\n",
        "t = turtle.Turtle()\n",
        "t.shape(\"turtle\");\n",
        "#거북이에게 명령을 내리면 거북이가 움직인다. 예를 들어서 \"앞으로 전진,\" \"뒤로 후진\", \"왼쪽으로 방향 전환\" 등의 명령을 내릴 수 있다.\n",
        "t.forward(100)\n",
        "#거북이가 100만큼 전진하며 직선이 그려진다."
      ],
      "metadata": {
        "id": "67wPR5AXXUyv"
      },
      "execution_count": null,
      "outputs": []
    },
    {
      "cell_type": "markdown",
      "source": [
        "23. Welcome Python. 저는 파이썬을 좋아합니다.를 출력하는 문장을 작성하시오."
      ],
      "metadata": {
        "id": "mcPhh-7aZF1A"
      }
    },
    {
      "cell_type": "code",
      "source": [
        "print(\"Welcome Python. 저는 파이썬을 좋아합니다.\")"
      ],
      "metadata": {
        "colab": {
          "base_uri": "https://localhost:8080/"
        },
        "id": "nY4iJtmJbyJt",
        "outputId": "be74b422-0eb4-4b1c-c95d-18798b70d250"
      },
      "execution_count": null,
      "outputs": [
        {
          "output_type": "stream",
          "name": "stdout",
          "text": [
            "Welcome Python. 저는 파이썬을 좋아합니다.\n"
          ]
        }
      ]
    },
    {
      "cell_type": "markdown",
      "source": [
        "24. 9 * 9는 81입니다.를 출력하는 문장을 작성하시오."
      ],
      "metadata": {
        "id": "3HPnulpTcELP"
      }
    },
    {
      "cell_type": "code",
      "source": [
        "print(\"9*9는\",9*9,\"입니다.\")"
      ],
      "metadata": {
        "colab": {
          "base_uri": "https://localhost:8080/"
        },
        "id": "6yTUkLEHb-qu",
        "outputId": "6ec625cf-5d0d-4928-fdac-dd41236afad8"
      },
      "execution_count": null,
      "outputs": [
        {
          "output_type": "stream",
          "name": "stdout",
          "text": [
            "9*9는 81 입니다.\n"
          ]
        }
      ]
    },
    {
      "cell_type": "markdown",
      "source": [
        "25. x = 100\n",
        "y = 200\n",
        "z = 50\n",
        "sum = z + y - z\n",
        "print(x,y,z, \"sum의 값은\", sum, \"입니다.\")\n",
        "출력되는 내용은?"
      ],
      "metadata": {
        "id": "dlCS1VvPcqHZ"
      }
    },
    {
      "cell_type": "code",
      "source": [
        "x = 100\n",
        "y = 200\n",
        "z = 50\n",
        "sum = x + y - z\n",
        "print(x,y,z, \"sum의 값은\", sum, \"입니다.\")"
      ],
      "metadata": {
        "colab": {
          "base_uri": "https://localhost:8080/"
        },
        "id": "NxmqpfPBdg3U",
        "outputId": "cca4b25b-b041-459b-a43f-406b3dfac3c2"
      },
      "execution_count": null,
      "outputs": [
        {
          "output_type": "stream",
          "name": "stdout",
          "text": [
            "100 200 50 sum의 값은 250 입니다.\n"
          ]
        }
      ]
    },
    {
      "cell_type": "markdown",
      "source": [
        "26. x = 9\n",
        "y = 6\n",
        "print(x+y)\n",
        "출력되는 내용은?"
      ],
      "metadata": {
        "id": "q78mp2N_d-0S"
      }
    },
    {
      "cell_type": "code",
      "source": [
        "x = 9\n",
        "y = 6\n",
        "print(x+y)"
      ],
      "metadata": {
        "colab": {
          "base_uri": "https://localhost:8080/"
        },
        "id": "EyGctVfnemn1",
        "outputId": "a8386879-7c88-4311-9535-08a8bb27c1dc"
      },
      "execution_count": null,
      "outputs": [
        {
          "output_type": "stream",
          "name": "stdout",
          "text": [
            "15\n"
          ]
        }
      ]
    },
    {
      "cell_type": "markdown",
      "source": [
        "27. x = '7'\n",
        "y = '4'\n",
        "print(x+y)\n",
        "출력되는 내용은?"
      ],
      "metadata": {
        "id": "dtcWv5x0d-6W"
      }
    },
    {
      "cell_type": "code",
      "source": [
        "x = '7'\n",
        "y = '4'\n",
        "print(x+y)\n",
        "\n",
        "#문자열은 더하면 숫자 그대로 나옴 ex) '7'+'4'는 74 "
      ],
      "metadata": {
        "colab": {
          "base_uri": "https://localhost:8080/"
        },
        "id": "WCTTKEslfCQ3",
        "outputId": "3e5c2219-ba21-4db3-aea8-2662309d1379"
      },
      "execution_count": null,
      "outputs": [
        {
          "output_type": "stream",
          "name": "stdout",
          "text": [
            "74\n"
          ]
        }
      ]
    },
    {
      "cell_type": "markdown",
      "source": [
        "29. 아래의 보기와 같이 두 가지 방법을 코딩하시오.(숫자를 받으려면 int함수를 사용해야 한다.)\n",
        "방법 1.\n",
        "첫 번째 정수를 입력하시오.:\n",
        "두 번째 정수를 입력하시오.:\n",
        "두 합의 값은 100100입니다.\n",
        "방법 2.\n",
        "첫 번째 정수를 입력하시오.:\n",
        "두 번째 정수를 입력하시오.:\n",
        "두 합의 값은 200입니다."
      ],
      "metadata": {
        "id": "sv2hElWyfapB"
      }
    },
    {
      "cell_type": "code",
      "source": [
        "#방법 1\n",
        "N1 = input(\"첫 번째 정수를 입력하시오.:\")\n",
        "N2 = input(\"두 번째 정수를 입력하시오.:\")\n",
        "print(\"두 합의 값은\",N1+N2,\"입니다.\")\n",
        "#방법 2\n",
        "N1 = int(input(\"첫 번째 정수를 입력하시오.\"))\n",
        "N2 = int(input(\"두 번째 정수를 입력하시오.\"))\n",
        "print(\"두 합의 값은\",N1+N2,\"입니다.\")\n",
        "\n",
        "#문자열 계산은 변수 = input\n",
        "#정수형 계산은 변수 = int(input())로 계산하기"
      ],
      "metadata": {
        "colab": {
          "base_uri": "https://localhost:8080/"
        },
        "id": "m1PTT7D6gUDm",
        "outputId": "b5e7f3ac-39db-4a47-f2d9-be045cef3c80"
      },
      "execution_count": null,
      "outputs": [
        {
          "output_type": "stream",
          "name": "stdout",
          "text": [
            "첫 번째 정수를 입력하시오.:100\n",
            "두 번째 정수를 입력하시오.:100\n",
            "두 합의 값은 100100 입니다.\n",
            "첫 번째 정수를 입력하시오.100\n",
            "두 번째 정수를 입력하시오.100\n",
            "두 합의 값은 200 입니다.\n"
          ]
        }
      ]
    },
    {
      "cell_type": "markdown",
      "source": [
        "30. 문자열로 받은 200을 숫자형(정수)으로 바꾸는 함수와 정수로 받은 200을 문자형으로 바꾸는 함수는?"
      ],
      "metadata": {
        "id": "0U-WMYzuiKlo"
      }
    },
    {
      "cell_type": "code",
      "source": [
        "x = '200'\n",
        "y = 200\n",
        "int(x), str(y)"
      ],
      "metadata": {
        "colab": {
          "base_uri": "https://localhost:8080/"
        },
        "id": "xavgzgCciaXt",
        "outputId": "39fcbbb6-4168-4f04-92e1-1abc2147d40b"
      },
      "execution_count": 17,
      "outputs": [
        {
          "output_type": "execute_result",
          "data": {
            "text/plain": [
              "(200, '200')"
            ]
          },
          "metadata": {},
          "execution_count": 17
        }
      ]
    },
    {
      "cell_type": "markdown",
      "source": [
        "33. 반복문을 사용하여 \" 방문을 환영합니다.\"를 10번 출력하는 코드를 작성하시오."
      ],
      "metadata": {
        "id": "4EEXfPIriagw"
      }
    },
    {
      "cell_type": "code",
      "source": [
        "for i in range(10):\n",
        "  print(\"방문을 환영합니다.\")\n",
        "  #()뒤에 : 꼭 넣기\n",
        "  #print 앞에 들여쓰기 반드시 하기"
      ],
      "metadata": {
        "id": "u_XybRQwjPul",
        "colab": {
          "base_uri": "https://localhost:8080/"
        },
        "outputId": "862ad9f3-d9e3-4609-b85f-9bb456e98fcd"
      },
      "execution_count": 16,
      "outputs": [
        {
          "output_type": "stream",
          "name": "stdout",
          "text": [
            "방문을 환영합니다.\n",
            "방문을 환영합니다.\n",
            "방문을 환영합니다.\n",
            "방문을 환영합니다.\n",
            "방문을 환영합니다.\n",
            "방문을 환영합니다.\n",
            "방문을 환영합니다.\n",
            "방문을 환영합니다.\n",
            "방문을 환영합니다.\n",
            "방문을 환영합니다.\n"
          ]
        }
      ]
    }
  ]
}