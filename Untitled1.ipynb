{
  "nbformat": 4,
  "nbformat_minor": 0,
  "metadata": {
    "colab": {
      "provenance": [],
      "authorship_tag": "ABX9TyNvvPH3How3SzLv1KnFGLq0",
      "include_colab_link": true
    },
    "kernelspec": {
      "name": "python3",
      "display_name": "Python 3"
    },
    "language_info": {
      "name": "python"
    }
  },
  "cells": [
    {
      "cell_type": "markdown",
      "metadata": {
        "id": "view-in-github",
        "colab_type": "text"
      },
      "source": [
        "<a href=\"https://colab.research.google.com/github/dasom17/test_p/blob/main/Untitled1.ipynb\" target=\"_parent\"><img src=\"https://colab.research.google.com/assets/colab-badge.svg\" alt=\"Open In Colab\"/></a>"
      ]
    },
    {
      "cell_type": "markdown",
      "source": [
        "8. 보기를 출력하세요.\n",
        "\"안녕하세요?\" 본인이름 님, 기초파이썬 강좌를 수강하신 것을 축하드립니다."
      ],
      "metadata": {
        "id": "zb1-pZTgGHiw"
      }
    },
    {
      "cell_type": "code",
      "execution_count": null,
      "metadata": {
        "colab": {
          "base_uri": "https://localhost:8080/"
        },
        "id": "pyjbGsjbBK4D",
        "outputId": "7a2d5ca8-4f5c-4828-9378-0e8bb83e4396"
      },
      "outputs": [
        {
          "output_type": "stream",
          "name": "stdout",
          "text": [
            "본인 이름을 입력하세요.노다솜\n",
            "안녕하세요? 노다솜 님, 기초파이썬 강좌를 수강하신 것을 축하드립니다.\n"
          ]
        }
      ],
      "source": [
        "name = input(\"본인 이름을 입력하세요.\")\n",
        "print(\"안녕하세요?\", name, \"님, 기초파이썬 강좌를 수강하신 것을 축하드립니다.\")\n",
        "\n",
        "#변수 설정하기, input 함수 활용, \"\" 사이에 입력한 내용은 그대로 출력, 변수는 \"\" 붙이지 않기, 반점 꼭 쓰기"
      ]
    },
    {
      "cell_type": "markdown",
      "source": [
        "10. 변수를 작성하는 방법 3가지를 computer program으로 만드시오."
      ],
      "metadata": {
        "id": "D1PCrZigG-k2"
      }
    },
    {
      "cell_type": "code",
      "source": [],
      "metadata": {
        "id": "BBnAxx6YJcVa"
      },
      "execution_count": null,
      "outputs": []
    },
    {
      "cell_type": "markdown",
      "source": [
        "19. 다음 보기의 사칙연산을 완성하시오. 한줄에 모두, 여러줄로 나누어서, 보기좋게 정리하시오. \n",
        "보기 : 1+2, 2-3, 3*4, 4/4"
      ],
      "metadata": {
        "id": "B8Ct6bcyNyx-"
      }
    },
    {
      "cell_type": "code",
      "source": [
        "print(\"1+2 =\",(1+2),\"입니다.\")\n",
        "print(\"2-3 =\",(2-3),\"입니다.\")\n",
        "print(\"3*4 =\",(3*4),\"입니다.\")\n",
        "print(\"4/4 =\",(4/4),\"입니다.\")\n",
        "print(\"1+2, 2-3, 3*4, 4/4 =\",1+2, 2-3, 3*4, 4/4, \"입니다.\")\n",
        "\n",
        "#기본형\n",
        "#print(1+2)\n",
        "#print(2-3)\n",
        "#print(3*4)\n",
        "#print(4/4)\n",
        "#print(1+2, 2-3, 3*4, 4/4)\n",
        "\n",
        "#정리\n",
        "#print(\"1+2 =\",(1+2),\"입니다.\")\n",
        "#print(\"2-3 =\",(2-3),\"입니다.\")\n",
        "#print(\"3*4 =\",(3*4),\"입니다.\")\n",
        "#print(\"4/4 =\",(4/4),\"입니다.\")\n",
        "#print(\"1+2, 2-3, 3*4, 4/4 =\",(1+2, 2-3, 3*4, 4/4),\"입니다.\")\n",
        "\n",
        "#print(\"사칙연산\")<-문자열, 값은 print(사칙연산)"
      ],
      "metadata": {
        "colab": {
          "base_uri": "https://localhost:8080/"
        },
        "id": "2vG8lDqEOXVa",
        "outputId": "4ed6028b-e4c2-45e7-e2d5-4033cae21654"
      },
      "execution_count": null,
      "outputs": [
        {
          "output_type": "stream",
          "name": "stdout",
          "text": [
            "1+2 = 3 입니다.\n",
            "2-3 = -1 입니다.\n",
            "3*4 = 12 입니다.\n",
            "4/4 = 1.0 입니다.\n",
            "1+2, 2-3, 3*4, 4/4 = 3 -1 12 1.0 입니다.\n"
          ]
        }
      ]
    },
    {
      "cell_type": "markdown",
      "source": [
        "20.아래의 출력화면을 간결하고 보기좋게 코딩하시오.\n",
        "\n",
        "****************************************\n",
        "* 제1조 1항 대한민국은 민주공화국이다. *\n",
        "****************************************"
      ],
      "metadata": {
        "id": "6uz-caoSTiGL"
      }
    },
    {
      "cell_type": "code",
      "source": [
        "print(\"*\"*40)\n",
        "print(\"* 제1조 1항 대한민국은 민주공화국이다. *\")\n",
        "print(\"*\"*40)\n",
        "\n",
        "#print(\"*\")로 작성하여 문자 취급 후 * 40"
      ],
      "metadata": {
        "colab": {
          "base_uri": "https://localhost:8080/"
        },
        "id": "IsOdDq9mSWyS",
        "outputId": "f5f14a8b-43a9-43c3-e3fa-5fed7535b038"
      },
      "execution_count": null,
      "outputs": [
        {
          "output_type": "stream",
          "name": "stdout",
          "text": [
            "****************************************\n",
            "* 제1조 1항 대한민국은 민주공화국이다. *\n",
            "****************************************\n"
          ]
        }
      ]
    },
    {
      "cell_type": "markdown",
      "source": [
        "21. 사용자에게 성명, 나이, 주소를 입력받아서 출력하라."
      ],
      "metadata": {
        "id": "hSou7HMRUb2W"
      }
    },
    {
      "cell_type": "code",
      "source": [
        "name = input(\"성명을 입력하세요.\")\n",
        "age = input(\"나이를 입력하세요.\")\n",
        "addr = input(\"주소를 입력하세요.\")\n",
        "print(\"사용자의 이름은\", name, \",나이는\", age,\"살, 주소는\", addr,\"입니다.\")\n",
        "\n",
        "#변수설정꼭하기"
      ],
      "metadata": {
        "colab": {
          "base_uri": "https://localhost:8080/"
        },
        "id": "DV2bWh33UgZJ",
        "outputId": "88336b23-7dd8-43d1-c315-8da92a97fca4"
      },
      "execution_count": null,
      "outputs": [
        {
          "output_type": "stream",
          "name": "stdout",
          "text": [
            "성명을 입력하세요.5\n",
            "나이를 입력하세요.5\n",
            "주소를 입력하세요.4\n",
            "사용자의 이름은 5 ,나이는 5 살, 주소는 4 입니다.\n"
          ]
        }
      ]
    },
    {
      "cell_type": "markdown",
      "source": [
        "22. 터틀그래픽 사용법에 대해서 코딩하고 설명하시오."
      ],
      "metadata": {
        "id": "zRmPp9tkV6Lu"
      }
    },
    {
      "cell_type": "code",
      "source": [
        "#파이썬 쉘에서 다음과 같이 입력한다.\n",
        "import turtle\n",
        "t = turtle.Turtle()\n",
        "t.shape(\"turtle\");\n",
        "#거북이에게 명령을 내리면 거북이가 움직인다. 예를 들어서 \"앞으로 전진,\" \"뒤로 후진\", \"왼쪽으로 방향 전환\" 등의 명령을 내릴 수 있다.\n",
        "t.forward(100)\n",
        "#거북이가 100만큼 전진하며 직선이 그려진다."
      ],
      "metadata": {
        "id": "67wPR5AXXUyv"
      },
      "execution_count": null,
      "outputs": []
    },
    {
      "cell_type": "markdown",
      "source": [],
      "metadata": {
        "id": "mcPhh-7aZF1A"
      }
    }
  ]
}