{
  "nbformat": 4,
  "nbformat_minor": 0,
  "metadata": {
    "colab": {
      "provenance": [],
      "authorship_tag": "ABX9TyNyAZjK9JOXLSs6eP32oEAR",
      "include_colab_link": true
    },
    "kernelspec": {
      "name": "python3",
      "display_name": "Python 3"
    },
    "language_info": {
      "name": "python"
    }
  },
  "cells": [
    {
      "cell_type": "markdown",
      "metadata": {
        "id": "view-in-github",
        "colab_type": "text"
      },
      "source": [
        "<a href=\"https://colab.research.google.com/github/dasom17/test_p/blob/main/Untitled2.ipynb\" target=\"_parent\"><img src=\"https://colab.research.google.com/assets/colab-badge.svg\" alt=\"Open In Colab\"/></a>"
      ]
    },
    {
      "cell_type": "code",
      "execution_count": 1,
      "metadata": {
        "colab": {
          "base_uri": "https://localhost:8080/"
        },
        "id": "gpAS3R56EW5U",
        "outputId": "8f3f0096-3514-40dd-da3d-5cb70378945d"
      },
      "outputs": [
        {
          "output_type": "stream",
          "name": "stdout",
          "text": [
            "본인 이름을 입력하세요.노다솜\n",
            "안녕하세요? 노다솜 님, 기초파이썬 강좌를 수강하신 것을 축하드립니다.\n"
          ]
        }
      ],
      "source": [
        "name = input(\"본인 이름을 입력하세요.\")\n",
        "print(\"안녕하세요?\",name,\"님, 기초파이썬 강좌를 수강하신 것을 축하드립니다.\")"
      ]
    },
    {
      "cell_type": "code",
      "source": [
        "print(\"*\"*40)\n",
        "print(\"* 제1조 1항 대한민국은 민주공화국이다. *\")\n",
        "print(\"*\"*40)"
      ],
      "metadata": {
        "colab": {
          "base_uri": "https://localhost:8080/"
        },
        "id": "8cF6bMn8Eu_T",
        "outputId": "2fb7bf61-ab8d-4e91-da0a-2250b81aad60"
      },
      "execution_count": 4,
      "outputs": [
        {
          "output_type": "stream",
          "name": "stdout",
          "text": [
            "****************************************\n",
            "* 제1조 1항 대한민국은 민주공화국이다. *\n",
            "****************************************\n"
          ]
        }
      ]
    },
    {
      "cell_type": "code",
      "source": [
        "name = input(\"이름을 입력하세요.\")\n",
        "age = input(\"나이를 입력하세요.\")\n",
        "addr = input(\"주소를 입력하세요.\")\n",
        "print(\"사용자의 이름은\",name,\",나이는\",age,\"살, 주소는\",addr,\"입니다.\")"
      ],
      "metadata": {
        "colab": {
          "base_uri": "https://localhost:8080/"
        },
        "id": "dqq3UbVNFGPb",
        "outputId": "160e0dfc-f331-424c-9962-30319a386bc1"
      },
      "execution_count": 7,
      "outputs": [
        {
          "output_type": "stream",
          "name": "stdout",
          "text": [
            "이름을 입력하세요.다솜\n",
            "나이를 입력하세요.20\n",
            "주소를 입력하세요.군산\n",
            "사용자의 이름은 다솜 ,나이는 20 살, 주소는 군산 입니다.\n"
          ]
        }
      ]
    }
  ]
}